{
 "cells": [
  {
   "cell_type": "markdown",
   "metadata": {},
   "source": [
    "### M logreg , 3000 features , pipeline"
   ]
  },
  {
   "cell_type": "code",
   "execution_count": 1,
   "metadata": {},
   "outputs": [],
   "source": [
    "from IPython.core.interactiveshell import InteractiveShell\n",
    "InteractiveShell.ast_node_interactivity='all'"
   ]
  },
  {
   "cell_type": "code",
   "execution_count": 2,
   "metadata": {},
   "outputs": [],
   "source": [
    "# Importing Basic libraries\n",
    "\n",
    "import pandas as pd\n",
    "import numpy as np\n",
    "import matplotlib.pyplot as plt\n",
    "from scipy.stats import norm\n",
    "import seaborn as sns\n",
    "\n",
    "from collections import Counter\n",
    "from sklearn.model_selection import train_test_split\n",
    "from sklearn.metrics import classification_report, confusion_matrix, accuracy_score, plot_confusion_matrix, f1_score\n",
    "\n",
    "from sklearn.feature_extraction.text import TfidfVectorizer\n",
    "from sklearn.linear_model import LogisticRegression\n",
    "\n",
    "from sklearn.pipeline import Pipeline\n",
    "import pickle"
   ]
  },
  {
   "cell_type": "code",
   "execution_count": 3,
   "metadata": {},
   "outputs": [],
   "source": [
    "# Libraries for text preprocessing\n",
    "import re\n",
    "import nltk\n",
    "\n",
    "#nltk.download('stopwords')\n",
    "from nltk.corpus import stopwords # import stopwords \n",
    "\n",
    "#nltk.download('wordnet') \n",
    "from nltk.stem.wordnet import WordNetLemmatizer # to lemmatize the words\n",
    "\n",
    "from nltk.tokenize import RegexpTokenizer, word_tokenize # to tokenize sentences into words"
   ]
  },
  {
   "cell_type": "markdown",
   "metadata": {},
   "source": [
    "### Loading Train dataset"
   ]
  },
  {
   "cell_type": "code",
   "execution_count": 4,
   "metadata": {},
   "outputs": [],
   "source": [
    "data = pd.read_csv(\"train.csv\")"
   ]
  },
  {
   "cell_type": "code",
   "execution_count": 5,
   "metadata": {},
   "outputs": [
    {
     "data": {
      "text/plain": [
       "(14343, 3)"
      ]
     },
     "execution_count": 5,
     "metadata": {},
     "output_type": "execute_result"
    },
    {
     "data": {
      "text/html": [
       "<div>\n",
       "<style scoped>\n",
       "    .dataframe tbody tr th:only-of-type {\n",
       "        vertical-align: middle;\n",
       "    }\n",
       "\n",
       "    .dataframe tbody tr th {\n",
       "        vertical-align: top;\n",
       "    }\n",
       "\n",
       "    .dataframe thead th {\n",
       "        text-align: right;\n",
       "    }\n",
       "</style>\n",
       "<table border=\"1\" class=\"dataframe\">\n",
       "  <thead>\n",
       "    <tr style=\"text-align: right;\">\n",
       "      <th></th>\n",
       "      <th>ID</th>\n",
       "      <th>Review</th>\n",
       "      <th>Rating</th>\n",
       "    </tr>\n",
       "  </thead>\n",
       "  <tbody>\n",
       "    <tr>\n",
       "      <th>0</th>\n",
       "      <td>0</td>\n",
       "      <td>exceptional service nice all-around daughter s...</td>\n",
       "      <td>5</td>\n",
       "    </tr>\n",
       "    <tr>\n",
       "      <th>1</th>\n",
       "      <td>1</td>\n",
       "      <td>beautiful relaxing jw marriott desert ridge re...</td>\n",
       "      <td>5</td>\n",
       "    </tr>\n",
       "    <tr>\n",
       "      <th>2</th>\n",
       "      <td>2</td>\n",
       "      <td>great location great location 5 mins subway ta...</td>\n",
       "      <td>5</td>\n",
       "    </tr>\n",
       "  </tbody>\n",
       "</table>\n",
       "</div>"
      ],
      "text/plain": [
       "   ID                                             Review  Rating\n",
       "0   0  exceptional service nice all-around daughter s...       5\n",
       "1   1  beautiful relaxing jw marriott desert ridge re...       5\n",
       "2   2  great location great location 5 mins subway ta...       5"
      ]
     },
     "execution_count": 5,
     "metadata": {},
     "output_type": "execute_result"
    }
   ],
   "source": [
    "data.shape\n",
    "data.head(3) # (14343, 3)"
   ]
  },
  {
   "cell_type": "markdown",
   "metadata": {},
   "source": [
    "## Preprocessing of train data"
   ]
  },
  {
   "cell_type": "code",
   "execution_count": 6,
   "metadata": {},
   "outputs": [
    {
     "data": {
      "text/html": [
       "<div>\n",
       "<style scoped>\n",
       "    .dataframe tbody tr th:only-of-type {\n",
       "        vertical-align: middle;\n",
       "    }\n",
       "\n",
       "    .dataframe tbody tr th {\n",
       "        vertical-align: top;\n",
       "    }\n",
       "\n",
       "    .dataframe thead th {\n",
       "        text-align: right;\n",
       "    }\n",
       "</style>\n",
       "<table border=\"1\" class=\"dataframe\">\n",
       "  <thead>\n",
       "    <tr style=\"text-align: right;\">\n",
       "      <th></th>\n",
       "      <th>ID</th>\n",
       "      <th>Review</th>\n",
       "      <th>Rating</th>\n",
       "      <th>Review_2</th>\n",
       "    </tr>\n",
       "  </thead>\n",
       "  <tbody>\n",
       "    <tr>\n",
       "      <th>0</th>\n",
       "      <td>0</td>\n",
       "      <td>exceptional service nice all-around daughter s...</td>\n",
       "      <td>5</td>\n",
       "      <td>exceptional service nice all-around daughter s...</td>\n",
       "    </tr>\n",
       "    <tr>\n",
       "      <th>1</th>\n",
       "      <td>1</td>\n",
       "      <td>beautiful relaxing jw marriott desert ridge re...</td>\n",
       "      <td>5</td>\n",
       "      <td>beautiful relaxing jw marriott desert ridge re...</td>\n",
       "    </tr>\n",
       "    <tr>\n",
       "      <th>2</th>\n",
       "      <td>2</td>\n",
       "      <td>great location great location 5 mins subway ta...</td>\n",
       "      <td>5</td>\n",
       "      <td>great location great location 5 mins subway ta...</td>\n",
       "    </tr>\n",
       "  </tbody>\n",
       "</table>\n",
       "</div>"
      ],
      "text/plain": [
       "   ID                                             Review  Rating  \\\n",
       "0   0  exceptional service nice all-around daughter s...       5   \n",
       "1   1  beautiful relaxing jw marriott desert ridge re...       5   \n",
       "2   2  great location great location 5 mins subway ta...       5   \n",
       "\n",
       "                                            Review_2  \n",
       "0  exceptional service nice all-around daughter s...  \n",
       "1  beautiful relaxing jw marriott desert ridge re...  \n",
       "2  great location great location 5 mins subway ta...  "
      ]
     },
     "execution_count": 6,
     "metadata": {},
     "output_type": "execute_result"
    }
   ],
   "source": [
    "# Replacing contractions (shorter vesions of words) with full word (n't , 'nt  as not)\n",
    "for index, row in data.iterrows():\n",
    "    phrase = row['Review']\n",
    "    phrase = phrase.lower() #Convert to lowercase\n",
    "    phrase = re.sub(r\"n\\'t\", \" not\", phrase) # replace n't  with not\n",
    "    phrase = re.sub(r\"\\'nt\", \" not\", phrase) # replace 'nt  with not \n",
    "    data.at[index, 'Review_2'] = phrase\n",
    "data[0:3]"
   ]
  },
  {
   "cell_type": "code",
   "execution_count": 7,
   "metadata": {
    "scrolled": true
   },
   "outputs": [
    {
     "data": {
      "text/html": [
       "<div>\n",
       "<style scoped>\n",
       "    .dataframe tbody tr th:only-of-type {\n",
       "        vertical-align: middle;\n",
       "    }\n",
       "\n",
       "    .dataframe tbody tr th {\n",
       "        vertical-align: top;\n",
       "    }\n",
       "\n",
       "    .dataframe thead th {\n",
       "        text-align: right;\n",
       "    }\n",
       "</style>\n",
       "<table border=\"1\" class=\"dataframe\">\n",
       "  <thead>\n",
       "    <tr style=\"text-align: right;\">\n",
       "      <th></th>\n",
       "      <th>ID</th>\n",
       "      <th>Review</th>\n",
       "      <th>Rating</th>\n",
       "      <th>Review_2</th>\n",
       "      <th>Clean_review</th>\n",
       "    </tr>\n",
       "  </thead>\n",
       "  <tbody>\n",
       "    <tr>\n",
       "      <th>0</th>\n",
       "      <td>0</td>\n",
       "      <td>exceptional service nice all-around daughter s...</td>\n",
       "      <td>5</td>\n",
       "      <td>exceptional service nice all-around daughter s...</td>\n",
       "      <td>exceptional service nice around daughter staye...</td>\n",
       "    </tr>\n",
       "    <tr>\n",
       "      <th>1</th>\n",
       "      <td>1</td>\n",
       "      <td>beautiful relaxing jw marriott desert ridge re...</td>\n",
       "      <td>5</td>\n",
       "      <td>beautiful relaxing jw marriott desert ridge re...</td>\n",
       "      <td>beautiful relaxing jw marriott desert ridge re...</td>\n",
       "    </tr>\n",
       "    <tr>\n",
       "      <th>2</th>\n",
       "      <td>2</td>\n",
       "      <td>great location great location 5 mins subway ta...</td>\n",
       "      <td>5</td>\n",
       "      <td>great location great location 5 mins subway ta...</td>\n",
       "      <td>great location great location min subway take ...</td>\n",
       "    </tr>\n",
       "  </tbody>\n",
       "</table>\n",
       "</div>"
      ],
      "text/plain": [
       "   ID                                             Review  Rating  \\\n",
       "0   0  exceptional service nice all-around daughter s...       5   \n",
       "1   1  beautiful relaxing jw marriott desert ridge re...       5   \n",
       "2   2  great location great location 5 mins subway ta...       5   \n",
       "\n",
       "                                            Review_2  \\\n",
       "0  exceptional service nice all-around daughter s...   \n",
       "1  beautiful relaxing jw marriott desert ridge re...   \n",
       "2  great location great location 5 mins subway ta...   \n",
       "\n",
       "                                        Clean_review  \n",
       "0  exceptional service nice around daughter staye...  \n",
       "1  beautiful relaxing jw marriott desert ridge re...  \n",
       "2  great location great location min subway take ...  "
      ]
     },
     "execution_count": 7,
     "metadata": {},
     "output_type": "execute_result"
    }
   ],
   "source": [
    "# TEXT NORMALIZATION   or PRE-PROCESSING\n",
    "\n",
    "##Creating a list of stop words and adding custom stopwords\n",
    "stop_words = set(stopwords.words(\"english\")) -set([\"not\"])\n",
    "##Creating a list of custom stopwords\n",
    "new_words = ['n',\"th\",\"hotel\",'hotels','room','rooms','restaurant','restaurants','e','ca','nd','wo','el','etc']\n",
    "stop_words = stop_words.union(new_words)\n",
    "\n",
    "for index, row in data.iterrows():\n",
    "    text = re.sub('[^a-zA-Z]', ' ', row['Review_2']) # Remove punctuations    \n",
    "    # text = text.lower() #Convert to lowercase\n",
    "    text = re.sub(\"&lt;/?.*?&gt;\",\" &lt;&gt; \",text)  # remove tags\n",
    "    text = re.sub(\"(\\\\d|\\\\W)+\",\" \",text)  # remove special characters and digits\n",
    "    text = text.split()  # Convert to list from string\n",
    "    \n",
    "    #Lemmatisation\n",
    "    lemmatizer = WordNetLemmatizer()\n",
    "    text = [lemmatizer.lemmatize(word) for word in text if not word  in stop_words] \n",
    "    text_string = \" \".join(text)\n",
    "    data.at[index, 'Clean_review'] = text_string\n",
    "data.head(3)"
   ]
  },
  {
   "cell_type": "markdown",
   "metadata": {},
   "source": [
    "## Training using 3 Rating levels "
   ]
  },
  {
   "cell_type": "code",
   "execution_count": 8,
   "metadata": {},
   "outputs": [
    {
     "data": {
      "text/html": [
       "<div>\n",
       "<style scoped>\n",
       "    .dataframe tbody tr th:only-of-type {\n",
       "        vertical-align: middle;\n",
       "    }\n",
       "\n",
       "    .dataframe tbody tr th {\n",
       "        vertical-align: top;\n",
       "    }\n",
       "\n",
       "    .dataframe thead th {\n",
       "        text-align: right;\n",
       "    }\n",
       "</style>\n",
       "<table border=\"1\" class=\"dataframe\">\n",
       "  <thead>\n",
       "    <tr style=\"text-align: right;\">\n",
       "      <th></th>\n",
       "      <th>ID</th>\n",
       "      <th>Review</th>\n",
       "      <th>Rating</th>\n",
       "      <th>Review_2</th>\n",
       "      <th>Clean_review</th>\n",
       "      <th>Rating_3levels</th>\n",
       "    </tr>\n",
       "  </thead>\n",
       "  <tbody>\n",
       "    <tr>\n",
       "      <th>0</th>\n",
       "      <td>0</td>\n",
       "      <td>exceptional service nice all-around daughter s...</td>\n",
       "      <td>5</td>\n",
       "      <td>exceptional service nice all-around daughter s...</td>\n",
       "      <td>exceptional service nice around daughter staye...</td>\n",
       "      <td>3</td>\n",
       "    </tr>\n",
       "    <tr>\n",
       "      <th>1</th>\n",
       "      <td>1</td>\n",
       "      <td>beautiful relaxing jw marriott desert ridge re...</td>\n",
       "      <td>5</td>\n",
       "      <td>beautiful relaxing jw marriott desert ridge re...</td>\n",
       "      <td>beautiful relaxing jw marriott desert ridge re...</td>\n",
       "      <td>3</td>\n",
       "    </tr>\n",
       "    <tr>\n",
       "      <th>2</th>\n",
       "      <td>2</td>\n",
       "      <td>great location great location 5 mins subway ta...</td>\n",
       "      <td>5</td>\n",
       "      <td>great location great location 5 mins subway ta...</td>\n",
       "      <td>great location great location min subway take ...</td>\n",
       "      <td>3</td>\n",
       "    </tr>\n",
       "    <tr>\n",
       "      <th>3</th>\n",
       "      <td>3</td>\n",
       "      <td>pleased nice safe hotel, flower market hotel v...</td>\n",
       "      <td>3</td>\n",
       "      <td>pleased nice safe hotel, flower market hotel v...</td>\n",
       "      <td>pleased nice safe flower market vast array mai...</td>\n",
       "      <td>2</td>\n",
       "    </tr>\n",
       "    <tr>\n",
       "      <th>4</th>\n",
       "      <td>4</td>\n",
       "      <td>excellent hotel service great hotel excellent ...</td>\n",
       "      <td>4</td>\n",
       "      <td>excellent hotel service great hotel excellent ...</td>\n",
       "      <td>excellent service great excellent location cou...</td>\n",
       "      <td>3</td>\n",
       "    </tr>\n",
       "  </tbody>\n",
       "</table>\n",
       "</div>"
      ],
      "text/plain": [
       "   ID                                             Review  Rating  \\\n",
       "0   0  exceptional service nice all-around daughter s...       5   \n",
       "1   1  beautiful relaxing jw marriott desert ridge re...       5   \n",
       "2   2  great location great location 5 mins subway ta...       5   \n",
       "3   3  pleased nice safe hotel, flower market hotel v...       3   \n",
       "4   4  excellent hotel service great hotel excellent ...       4   \n",
       "\n",
       "                                            Review_2  \\\n",
       "0  exceptional service nice all-around daughter s...   \n",
       "1  beautiful relaxing jw marriott desert ridge re...   \n",
       "2  great location great location 5 mins subway ta...   \n",
       "3  pleased nice safe hotel, flower market hotel v...   \n",
       "4  excellent hotel service great hotel excellent ...   \n",
       "\n",
       "                                        Clean_review Rating_3levels  \n",
       "0  exceptional service nice around daughter staye...              3  \n",
       "1  beautiful relaxing jw marriott desert ridge re...              3  \n",
       "2  great location great location min subway take ...              3  \n",
       "3  pleased nice safe flower market vast array mai...              2  \n",
       "4  excellent service great excellent location cou...              3  "
      ]
     },
     "execution_count": 8,
     "metadata": {},
     "output_type": "execute_result"
    }
   ],
   "source": [
    "data['Rating_3levels'] = None\n",
    "for index, rows in data.iterrows():\n",
    "    if(rows['Rating'] >= 1 and rows['Rating'] < 3):\n",
    "        data.at[index, 'Rating_3levels'] = 1\n",
    "    elif(rows['Rating'] == 3):\n",
    "        data.at[index,'Rating_3levels'] = 2\n",
    "    elif(rows['Rating'] > 3 and rows['Rating'] <= 5 ):\n",
    "        data.at[index,'Rating_3levels'] = 3\n",
    "data.head()"
   ]
  },
  {
   "cell_type": "markdown",
   "metadata": {},
   "source": [
    "#### Target variable"
   ]
  },
  {
   "cell_type": "code",
   "execution_count": 9,
   "metadata": {
    "scrolled": true
   },
   "outputs": [
    {
     "name": "stdout",
     "output_type": "stream",
     "text": [
      "<class 'pandas.core.frame.DataFrame'>\n",
      "RangeIndex: 14343 entries, 0 to 14342\n",
      "Data columns (total 6 columns):\n",
      " #   Column          Non-Null Count  Dtype \n",
      "---  ------          --------------  ----- \n",
      " 0   ID              14343 non-null  int64 \n",
      " 1   Review          14343 non-null  object\n",
      " 2   Rating          14343 non-null  int64 \n",
      " 3   Review_2        14343 non-null  object\n",
      " 4   Clean_review    14343 non-null  object\n",
      " 5   Rating_3levels  14343 non-null  object\n",
      "dtypes: int64(2), object(4)\n",
      "memory usage: 672.5+ KB\n"
     ]
    }
   ],
   "source": [
    "data.info()"
   ]
  },
  {
   "cell_type": "code",
   "execution_count": 10,
   "metadata": {},
   "outputs": [],
   "source": [
    "data['Rating_3levels'] = data.Rating_3levels.astype(int)\n"
   ]
  },
  {
   "cell_type": "code",
   "execution_count": 11,
   "metadata": {
    "scrolled": true
   },
   "outputs": [
    {
     "data": {
      "text/plain": [
       "(14343,)"
      ]
     },
     "execution_count": 11,
     "metadata": {},
     "output_type": "execute_result"
    },
    {
     "data": {
      "text/plain": [
       "0    3\n",
       "1    3\n",
       "2    3\n",
       "3    2\n",
       "4    3\n",
       "Name: Rating_3levels, dtype: int32"
      ]
     },
     "execution_count": 11,
     "metadata": {},
     "output_type": "execute_result"
    }
   ],
   "source": [
    "y = data.Rating_3levels ; y.shape ; y[0:5]"
   ]
  },
  {
   "cell_type": "code",
   "execution_count": 12,
   "metadata": {},
   "outputs": [
    {
     "data": {
      "text/plain": [
       "(11474,)"
      ]
     },
     "execution_count": 12,
     "metadata": {},
     "output_type": "execute_result"
    },
    {
     "data": {
      "text/plain": [
       "(2869,)"
      ]
     },
     "execution_count": 12,
     "metadata": {},
     "output_type": "execute_result"
    },
    {
     "data": {
      "text/plain": [
       "(14343,)"
      ]
     },
     "execution_count": 12,
     "metadata": {},
     "output_type": "execute_result"
    }
   ],
   "source": [
    "# # Splitting dataset in 80:20 ratio\n",
    "# frpm previous models. found this ratio to give good results\n",
    "X_train1,X_test1,y_train1,y_test1 = train_test_split(data.Clean_review,y,test_size=0.20,random_state=123,stratify=y)\n",
    "X_train1.shape # (11474, 3006)\n",
    "X_test1.shape # (2869, 3006)\n",
    "y.shape  # 14343 reviews"
   ]
  },
  {
   "cell_type": "markdown",
   "metadata": {},
   "source": [
    "### Tfidf and Multinomial log reg using pipeline (3000 features)"
   ]
  },
  {
   "cell_type": "code",
   "execution_count": 13,
   "metadata": {},
   "outputs": [],
   "source": [
    "from sklearn.pipeline import Pipeline\n",
    "pipeline = Pipeline(steps = [('tfidf',TfidfVectorizer(max_features=3000)),\n",
    "                            ('model',LogisticRegression(random_state=123, multi_class='multinomial',solver='newton-cg'))])"
   ]
  },
  {
   "cell_type": "markdown",
   "metadata": {},
   "source": [
    "### Fitting pipeline for full train data and predicting for same"
   ]
  },
  {
   "cell_type": "code",
   "execution_count": 14,
   "metadata": {},
   "outputs": [
    {
     "data": {
      "text/plain": [
       "Pipeline(steps=[('tfidf', TfidfVectorizer(max_features=3000)),\n",
       "                ('model',\n",
       "                 LogisticRegression(multi_class='multinomial', random_state=123,\n",
       "                                    solver='newton-cg'))])"
      ]
     },
     "execution_count": 14,
     "metadata": {},
     "output_type": "execute_result"
    }
   ],
   "source": [
    "pipeline.fit(data.Clean_review, y)"
   ]
  },
  {
   "cell_type": "code",
   "execution_count": 15,
   "metadata": {},
   "outputs": [
    {
     "name": "stdout",
     "output_type": "stream",
     "text": [
      "Accuracy score on train data: 0.9018336470752283\n",
      "F1 macro score on train data: 0.7679944913674174\n",
      "              precision    recall  f1-score   support\n",
      "\n",
      "           1       0.87      0.86      0.87      2225\n",
      "           2       0.81      0.35      0.49      1510\n",
      "           3       0.91      0.99      0.95     10608\n",
      "\n",
      "    accuracy                           0.90     14343\n",
      "   macro avg       0.87      0.73      0.77     14343\n",
      "weighted avg       0.90      0.90      0.89     14343\n",
      "\n",
      "[[ 1924    59   242]\n",
      " [  225   525   760]\n",
      " [   60    62 10486]]\n"
     ]
    }
   ],
   "source": [
    "# for full data\n",
    "y_pred = pipeline.predict(data.Clean_review)\n",
    "\n",
    "print(\"Accuracy score on train data:\" ,accuracy_score(y,y_pred))\n",
    "print(\"F1 macro score on train data:\",f1_score(y,y_pred, average='macro'))\n",
    "print(classification_report(y,y_pred))\n",
    "print(confusion_matrix(y,y_pred))"
   ]
  },
  {
   "cell_type": "markdown",
   "metadata": {},
   "source": [
    "### Fitting pipeline for train data and checking on validation data"
   ]
  },
  {
   "cell_type": "code",
   "execution_count": 16,
   "metadata": {
    "scrolled": true
   },
   "outputs": [
    {
     "data": {
      "text/plain": [
       "Pipeline(steps=[('tfidf', TfidfVectorizer(max_features=3000)),\n",
       "                ('model',\n",
       "                 LogisticRegression(multi_class='multinomial', random_state=123,\n",
       "                                    solver='newton-cg'))])"
      ]
     },
     "execution_count": 16,
     "metadata": {},
     "output_type": "execute_result"
    }
   ],
   "source": [
    "pipeline.fit(X_train1,y_train1)"
   ]
  },
  {
   "cell_type": "code",
   "execution_count": 17,
   "metadata": {},
   "outputs": [
    {
     "data": {
      "text/plain": [
       "0.9044796932194527"
      ]
     },
     "execution_count": 17,
     "metadata": {},
     "output_type": "execute_result"
    },
    {
     "data": {
      "text/plain": [
       "0.8574416172882537"
      ]
     },
     "execution_count": 17,
     "metadata": {},
     "output_type": "execute_result"
    }
   ],
   "source": [
    "pipeline.score(X_train1,y_train1)\n",
    "pipeline.score(X_test1,y_test1)"
   ]
  },
  {
   "cell_type": "code",
   "execution_count": 18,
   "metadata": {},
   "outputs": [
    {
     "name": "stdout",
     "output_type": "stream",
     "text": [
      "Accuracy score on train data: 0.9044796932194527\n",
      "F1 macro score on train data: 0.772295981310684\n",
      "              precision    recall  f1-score   support\n",
      "\n",
      "           1       0.88      0.87      0.88      1780\n",
      "           2       0.84      0.35      0.49      1208\n",
      "           3       0.91      0.99      0.95      8486\n",
      "\n",
      "    accuracy                           0.90     11474\n",
      "   macro avg       0.88      0.74      0.77     11474\n",
      "weighted avg       0.90      0.90      0.89     11474\n",
      "\n",
      "[[1551   42  187]\n",
      " [ 171  419  618]\n",
      " [  42   36 8408]]\n",
      "Accuracy score on test data: 0.8574416172882537\n",
      "F1 macro score on test data: 0.6596630291635069\n",
      "              precision    recall  f1-score   support\n",
      "\n",
      "           1       0.79      0.73      0.76       445\n",
      "           2       0.55      0.20      0.29       302\n",
      "           3       0.88      0.98      0.93      2122\n",
      "\n",
      "    accuracy                           0.86      2869\n",
      "   macro avg       0.74      0.64      0.66      2869\n",
      "weighted avg       0.83      0.86      0.83      2869\n",
      "\n",
      "[[ 324   26   95]\n",
      " [  62   60  180]\n",
      " [  23   23 2076]]\n"
     ]
    }
   ],
   "source": [
    "\n",
    "# for training data\n",
    "y_pred_train = pipeline.predict(X_train1)\n",
    "\n",
    "print(\"Accuracy score on train data:\" ,accuracy_score(y_train1,y_pred_train))\n",
    "print(\"F1 macro score on train data:\",f1_score(y_train1,y_pred_train, average='macro'))\n",
    "print(classification_report(y_train1,y_pred_train))\n",
    "print(confusion_matrix(y_train1,y_pred_train))\n",
    "\n",
    "# for test data \n",
    "y_pred_test = pipeline.predict(X_test1)\n",
    "\n",
    "print(\"Accuracy score on test data:\" ,accuracy_score(y_test1,y_pred_test))\n",
    "print(\"F1 macro score on test data:\",f1_score(y_test1,y_pred_test, average='macro'))\n",
    "print(classification_report(y_test1,y_pred_test))\n",
    "print(confusion_matrix(y_test1,y_pred_test))\n",
    "\n"
   ]
  },
  {
   "cell_type": "code",
   "execution_count": 19,
   "metadata": {},
   "outputs": [],
   "source": [
    "# Saving the pickle file\n",
    "\n",
    "#pickle.dump(pipeline, open('Hotel_Rating_MLogReg.pkl','wb'))"
   ]
  },
  {
   "cell_type": "code",
   "execution_count": 20,
   "metadata": {},
   "outputs": [],
   "source": [
    "# Loading the pickle file\n",
    "\n",
    "#pipe = pickle.load(open(\"Hotel_Rating_MLogReg.pkl\",'rb'))"
   ]
  },
  {
   "cell_type": "markdown",
   "metadata": {},
   "source": [
    "#### Checking if  pickle file is fully loaded"
   ]
  },
  {
   "cell_type": "code",
   "execution_count": 21,
   "metadata": {},
   "outputs": [],
   "source": [
    "# for test data predicting after laoding file from pickle .. checking accuracy of pickle file\n",
    "#y_pred_test_pipe = pipe.predict(X_test1)\n",
    "\n",
    "#print(\"Accuracy score on test data:\" ,accuracy_score(y_test1,y_pred_test_pipe))\n",
    "#print(\"F1 macro score on test data:\",f1_score(y_test1,y_pred_test_pipe, average='macro'))\n",
    "#print(classification_report(y_test1,y_pred_test_pipe))\n",
    "#print(confusion_matrix(y_test1,y_pred_test_pipe))"
   ]
  },
  {
   "cell_type": "code",
   "execution_count": null,
   "metadata": {},
   "outputs": [],
   "source": []
  }
 ],
 "metadata": {
  "kernelspec": {
   "display_name": "hotelkernel",
   "language": "python",
   "name": "hotelkernel"
  },
  "language_info": {
   "codemirror_mode": {
    "name": "ipython",
    "version": 3
   },
   "file_extension": ".py",
   "mimetype": "text/x-python",
   "name": "python",
   "nbconvert_exporter": "python",
   "pygments_lexer": "ipython3",
   "version": "3.7.10"
  }
 },
 "nbformat": 4,
 "nbformat_minor": 4
}
